{
 "cells": [
  {
   "attachments": {},
   "cell_type": "markdown",
   "metadata": {},
   "source": [
    "## Flujos de Control"
   ]
  },
  {
   "attachments": {},
   "cell_type": "markdown",
   "metadata": {},
   "source": [
    "1) Crear una variable que contenga un elemento del conjunto de números enteros y luego imprimir por pantalla si es mayor o menor a cero"
   ]
  },
  {
   "cell_type": "code",
   "execution_count": 7,
   "metadata": {},
   "outputs": [
    {
     "name": "stdout",
     "output_type": "stream",
     "text": [
      "el numero es nulo\n"
     ]
    }
   ],
   "source": [
    "a = 0\n",
    "if (a < 0):\n",
    " print('el numero es negativo')\n",
    "\n",
    "elif (a>0):\n",
    "  print(\"el numero es positivo\")\n",
    "\n",
    "else:\n",
    " print(\"el numero es nulo\")"
   ]
  },
  {
   "attachments": {},
   "cell_type": "markdown",
   "metadata": {},
   "source": [
    "2) Crear dos variables y un condicional que informe si son del mismo tipo de dato"
   ]
  },
  {
   "cell_type": "code",
   "execution_count": 8,
   "metadata": {},
   "outputs": [
    {
     "name": "stdout",
     "output_type": "stream",
     "text": [
      "las variables son del mismo tipo\n"
     ]
    }
   ],
   "source": [
    "a = \"hola\"\n",
    "b = \"henry\"\n",
    "if (type (a) == type (b)):\n",
    "    print(\"las variables son del mismo tipo\")\n",
    "\n",
    "else:\n",
    "    print(\"las variables son de diferente tipo\")\n"
   ]
  },
  {
   "attachments": {},
   "cell_type": "markdown",
   "metadata": {},
   "source": [
    "3) Para los valores enteros del 1 al 20, imprimir por pantalla si es par o impar"
   ]
  },
  {
   "cell_type": "code",
   "execution_count": 11,
   "metadata": {},
   "outputs": [
    {
     "name": "stdout",
     "output_type": "stream",
     "text": [
      "el numero 1 es impar\n",
      "el numero 2 es par\n",
      "el numero 3 es impar\n",
      "el numero 4 es par\n",
      "el numero 5 es impar\n",
      "el numero 6 es par\n",
      "el numero 7 es impar\n",
      "el numero 8 es par\n",
      "el numero 9 es impar\n",
      "el numero 10 es par\n",
      "el numero 11 es impar\n",
      "el numero 12 es par\n",
      "el numero 13 es impar\n",
      "el numero 14 es par\n",
      "el numero 15 es impar\n",
      "el numero 16 es par\n",
      "el numero 17 es impar\n",
      "el numero 18 es par\n",
      "el numero 19 es impar\n",
      "el numero 20 es par\n"
     ]
    }
   ],
   "source": [
    "for z in range (1,21):\n",
    "    if z % 2 == 0:\n",
    "        print (\"el numero\", str (z), \"es par\")\n",
    "    else:\n",
    "        print(\"el numero\", str (z), \"es impar\")"
   ]
  },
  {
   "attachments": {},
   "cell_type": "markdown",
   "metadata": {},
   "source": [
    "4) En un ciclo for mostrar para los valores entre 0 y 5 el resultado de elevarlo a la potencia igual a 3"
   ]
  },
  {
   "cell_type": "code",
   "execution_count": 13,
   "metadata": {},
   "outputs": [
    {
     "name": "stdout",
     "output_type": "stream",
     "text": [
      "Para el valor: 0 ,el valor elevado a la tercera potencia 0\n",
      "Para el valor: 1 ,el valor elevado a la tercera potencia 1\n",
      "Para el valor: 2 ,el valor elevado a la tercera potencia 8\n",
      "Para el valor: 3 ,el valor elevado a la tercera potencia 27\n",
      "Para el valor: 4 ,el valor elevado a la tercera potencia 64\n",
      "Para el valor: 5 ,el valor elevado a la tercera potencia 125\n"
     ]
    }
   ],
   "source": [
    "for i in range (0,6):\n",
    "    print(\"Para el valor:\", str(i), \"el valor elevado a la tercera potencia\", str (i**3))\n"
   ]
  },
  {
   "attachments": {},
   "cell_type": "markdown",
   "metadata": {},
   "source": [
    "5) Crear una variable que contenga un número entero y realizar un ciclo for la misma cantidad de ciclos"
   ]
  },
  {
   "cell_type": "code",
   "execution_count": 18,
   "metadata": {},
   "outputs": [
    {
     "name": "stdout",
     "output_type": "stream",
     "text": [
      "3\n"
     ]
    }
   ],
   "source": [
    "n = 4\n",
    "for i in range(0, n):\n",
    "    pass\n",
    "print(i)"
   ]
  },
  {
   "attachments": {},
   "cell_type": "markdown",
   "metadata": {},
   "source": [
    "6) Utilizar un ciclo while para realizar el factorial de un número guardado en una variable, sólo si la variable contiene un número entero mayor a 0"
   ]
  },
  {
   "cell_type": "code",
   "execution_count": 20,
   "metadata": {},
   "outputs": [
    {
     "name": "stdout",
     "output_type": "stream",
     "text": [
      "La variable no es mayor a cero\n"
     ]
    }
   ],
   "source": [
    "n = 0\n",
    "if (type(n) == int):\n",
    "    if (n > 0):\n",
    "        factorial = n\n",
    "        while (n > 2):\n",
    "            n = n - 1\n",
    "            factorial = factorial * n\n",
    "        print('El factorial es', factorial)\n",
    "    else:\n",
    "        print('La variable no es mayor a cero')\n",
    "else:\n",
    "    print('La variable no es un entero')"
   ]
  },
  {
   "attachments": {},
   "cell_type": "markdown",
   "metadata": {},
   "source": [
    "7) Crear un ciclo for dentro de un ciclo while"
   ]
  },
  {
   "cell_type": "code",
   "execution_count": 15,
   "metadata": {},
   "outputs": [
    {
     "name": "stdout",
     "output_type": "stream",
     "text": [
      "Ciclo while nro 1\n",
      "Ciclo for nro 1\n",
      "Ciclo while nro 2\n",
      "Ciclo for nro 1\n",
      "Ciclo for nro 2\n",
      "Ciclo while nro 3\n",
      "Ciclo for nro 1\n",
      "Ciclo for nro 2\n",
      "Ciclo for nro 3\n",
      "Ciclo while nro 4\n",
      "Ciclo for nro 1\n",
      "Ciclo for nro 2\n",
      "Ciclo for nro 3\n",
      "Ciclo for nro 4\n",
      "Ciclo while nro 5\n",
      "Ciclo for nro 1\n",
      "Ciclo for nro 2\n",
      "Ciclo for nro 3\n",
      "Ciclo for nro 4\n",
      "Ciclo for nro 5\n",
      "Ciclo while nro 6\n",
      "Ciclo for nro 1\n",
      "Ciclo for nro 2\n",
      "Ciclo for nro 3\n",
      "Ciclo for nro 4\n",
      "Ciclo for nro 5\n",
      "Ciclo for nro 6\n"
     ]
    }
   ],
   "source": [
    "n = 1\n",
    "while n < 7:\n",
    "    print('Ciclo while nro ' + str(n))  # Imprime el número del ciclo while\n",
    "    for i in range(1, n+1): # como la función range(a, b) genera una secuencia de números desde a hasta b-1. Para que el bucle for incluya el número n, usamos range(1, n+1) en lugar de range(1, n).\n",
    "        print('Ciclo for nro ' + str(i))  # Imprime el número del ciclo for\n",
    "    n += 1"
   ]
  },
  {
   "attachments": {},
   "cell_type": "markdown",
   "metadata": {},
   "source": [
    "8) Crear un ciclo while dentro de un ciclo for"
   ]
  },
  {
   "cell_type": "code",
   "execution_count": 23,
   "metadata": {},
   "outputs": [
    {
     "name": "stdout",
     "output_type": "stream",
     "text": [
      "Ciclo for nro 1\n",
      "Ciclo while nro 7\n",
      "Ciclo while nro 6\n",
      "Ciclo while nro 5\n",
      "Ciclo while nro 4\n",
      "Ciclo while nro 3\n",
      "Ciclo while nro 2\n",
      "Ciclo while nro 1\n",
      "Ciclo for nro 2\n",
      "Ciclo while nro 7\n",
      "Ciclo while nro 6\n",
      "Ciclo while nro 5\n",
      "Ciclo while nro 4\n",
      "Ciclo while nro 3\n",
      "Ciclo while nro 2\n",
      "Ciclo while nro 1\n",
      "Ciclo for nro 3\n",
      "Ciclo while nro 7\n",
      "Ciclo while nro 6\n",
      "Ciclo while nro 5\n",
      "Ciclo while nro 4\n",
      "Ciclo while nro 3\n",
      "Ciclo while nro 2\n",
      "Ciclo while nro 1\n",
      "Ciclo for nro 4\n",
      "Ciclo while nro 7\n",
      "Ciclo while nro 6\n",
      "Ciclo while nro 5\n",
      "Ciclo while nro 4\n",
      "Ciclo while nro 3\n",
      "Ciclo while nro 2\n",
      "Ciclo while nro 1\n",
      "Ciclo for nro 5\n",
      "Ciclo while nro 7\n",
      "Ciclo while nro 6\n",
      "Ciclo while nro 5\n",
      "Ciclo while nro 4\n",
      "Ciclo while nro 3\n",
      "Ciclo while nro 2\n",
      "Ciclo while nro 1\n",
      "Ciclo for nro 6\n",
      "Ciclo while nro 7\n",
      "Ciclo while nro 6\n",
      "Ciclo while nro 5\n",
      "Ciclo while nro 4\n",
      "Ciclo while nro 3\n",
      "Ciclo while nro 2\n",
      "Ciclo while nro 1\n"
     ]
    }
   ],
   "source": [
    "n = 7\n",
    "for i in range(1, n):\n",
    "    print('Ciclo for nro ' + str(i))\n",
    "    \n",
    "    n_temp = n\n",
    "    \n",
    "    while n_temp > 0:\n",
    "        print('Ciclo while nro ' + str(n_temp))\n",
    "        n_temp -= 1\n",
    "        \n",
    "        if n_temp <= 0:\n",
    "            break"
   ]
  },
  {
   "attachments": {},
   "cell_type": "markdown",
   "metadata": {},
   "source": [
    "9) Imprimir los números primos existentes entre 0 y 30"
   ]
  },
  {
   "cell_type": "code",
   "execution_count": 24,
   "metadata": {},
   "outputs": [
    {
     "name": "stdout",
     "output_type": "stream",
     "text": [
      "0\n",
      "1\n",
      "2\n",
      "3\n",
      "5\n",
      "7\n",
      "11\n",
      "13\n",
      "17\n",
      "19\n",
      "23\n",
      "29\n"
     ]
    }
   ],
   "source": [
    "tope_rango=30\n",
    "n = 0\n",
    "primo = True\n",
    "while (n < tope_rango):\n",
    "    for div in range(2, n):\n",
    "        if (n % div == 0):\n",
    "            primo = False\n",
    "    if (primo):\n",
    "        print(n)\n",
    "    else:\n",
    "        primo = True\n",
    "    n += 1"
   ]
  },
  {
   "attachments": {},
   "cell_type": "markdown",
   "metadata": {},
   "source": [
    "10) ¿Se puede mejorar el proceso del punto 9? Utilizar las sentencias break y/ó continue para tal fin"
   ]
  },
  {
   "cell_type": "code",
   "execution_count": 25,
   "metadata": {},
   "outputs": [
    {
     "name": "stdout",
     "output_type": "stream",
     "text": [
      "0\n",
      "1\n",
      "2\n",
      "3\n",
      "5\n",
      "7\n",
      "11\n",
      "13\n",
      "17\n",
      "19\n",
      "23\n",
      "29\n"
     ]
    }
   ],
   "source": [
    "n = 0\n",
    "primo = True\n",
    "while (n < tope_rango):\n",
    "    for div in range(2, n):\n",
    "        if (n % div == 0):\n",
    "            primo = False\n",
    "            break\n",
    "    if (primo):\n",
    "        print(n)\n",
    "    else:\n",
    "        primo = True\n",
    "    n += 1"
   ]
  },
  {
   "attachments": {},
   "cell_type": "markdown",
   "metadata": {},
   "source": [
    "11) En los puntos 9 y 10, se diseño un código que encuentra números primos y además se lo optimizó. ¿Es posible saber en qué medida se optimizó?"
   ]
  },
  {
   "cell_type": "code",
   "execution_count": 27,
   "metadata": {},
   "outputs": [
    {
     "name": "stdout",
     "output_type": "stream",
     "text": [
      "0\n",
      "1\n",
      "2\n",
      "3\n",
      "5\n",
      "7\n",
      "11\n",
      "13\n",
      "17\n",
      "19\n",
      "23\n",
      "29\n",
      "Cantidad de ciclos: 378\n",
      "0\n",
      "1\n",
      "2\n",
      "3\n",
      "5\n",
      "7\n",
      "11\n",
      "13\n",
      "17\n",
      "19\n",
      "23\n",
      "29\n",
      "Cantidad de ciclos: 134\n",
      "Se optimizó a un 0.3544973544973545% de ciclos aplicando break\n"
     ]
    }
   ],
   "source": [
    "ciclos_sin_break = 0\n",
    "n = 0\n",
    "primo = True\n",
    "while (n < tope_rango):\n",
    "    for div in range(2, n):\n",
    "        ciclos_sin_break += 1\n",
    "        if (n % div == 0):\n",
    "            primo = False\n",
    "    if (primo):\n",
    "        print(n)\n",
    "    else:\n",
    "        primo = True\n",
    "    n += 1\n",
    "print('Cantidad de ciclos: ' + str(ciclos_sin_break))\n",
    "\n",
    "ciclos_con_break = 0\n",
    "n = 0\n",
    "primo = True\n",
    "while (n < tope_rango):\n",
    "    for div in range(2, n):\n",
    "        ciclos_con_break += 1\n",
    "        if (n % div == 0):\n",
    "            primo = False\n",
    "            break\n",
    "    if (primo):\n",
    "        print(n)\n",
    "    else:\n",
    "        primo = True\n",
    "    n += 1\n",
    "print('Cantidad de ciclos: ' + str(ciclos_con_break))\n",
    "print('Se optimizó a un ' + str(ciclos_con_break/ciclos_sin_break) + '% de ciclos aplicando break')"
   ]
  },
  {
   "attachments": {},
   "cell_type": "markdown",
   "metadata": {},
   "source": [
    "12) Aplicando continue, armar un ciclo while que solo imprima los valores divisibles por 12, dentro del rango de números de 100 a 300"
   ]
  },
  {
   "cell_type": "code",
   "execution_count": 28,
   "metadata": {},
   "outputs": [
    {
     "name": "stdout",
     "output_type": "stream",
     "text": [
      "108  es divisible por 12\n",
      "120  es divisible por 12\n",
      "132  es divisible por 12\n",
      "144  es divisible por 12\n",
      "156  es divisible por 12\n",
      "168  es divisible por 12\n",
      "180  es divisible por 12\n",
      "192  es divisible por 12\n",
      "204  es divisible por 12\n",
      "216  es divisible por 12\n",
      "228  es divisible por 12\n",
      "240  es divisible por 12\n",
      "252  es divisible por 12\n",
      "264  es divisible por 12\n",
      "276  es divisible por 12\n",
      "288  es divisible por 12\n",
      "300  es divisible por 12\n"
     ]
    }
   ],
   "source": [
    "n = 99\n",
    "while(n <= 300):\n",
    "    n += 1\n",
    "    if (n % 12 != 0):\n",
    "        continue\n",
    "    print(n, ' es divisible por 12')"
   ]
  },
  {
   "attachments": {},
   "cell_type": "markdown",
   "metadata": {},
   "source": [
    "13) Utilizar la función **input()** que permite hacer ingresos por teclado, para encontrar números primos y dar la opción al usario de buscar el siguiente"
   ]
  },
  {
   "cell_type": "code",
   "execution_count": 29,
   "metadata": {},
   "outputs": [
    {
     "name": "stdout",
     "output_type": "stream",
     "text": [
      "1\n",
      "¿Desea encontrar el siguiente número primo?\n",
      "Se finaliza el proceso\n"
     ]
    }
   ],
   "source": [
    "n = 1\n",
    "sigue = 1\n",
    "primo = True\n",
    "while (sigue == 1):\n",
    "    for div in range(2, n):\n",
    "        if (n % div == 0):\n",
    "            primo = False\n",
    "            break\n",
    "    if (primo):\n",
    "        print(n)\n",
    "        print('¿Desea encontrar el siguiente número primo?')\n",
    "        if (input() != '1'):\n",
    "            print('Se finaliza el proceso')\n",
    "            break\n",
    "    else:\n",
    "        primo = True\n",
    "    n += 1"
   ]
  },
  {
   "attachments": {},
   "cell_type": "markdown",
   "metadata": {},
   "source": [
    "14) Crear un ciclo while que encuentre dentro del rango de 100 a 300 el primer número divisible por 3 y además múltiplo de 6"
   ]
  },
  {
   "cell_type": "code",
   "execution_count": 30,
   "metadata": {},
   "outputs": [
    {
     "name": "stdout",
     "output_type": "stream",
     "text": [
      "El número es:  102\n"
     ]
    }
   ],
   "source": [
    "n = 100\n",
    "while(n<=300):\n",
    "    if (n % 6 == 0):\n",
    "        print('El número es: ', str(n))\n",
    "        break\n",
    "    n += 1"
   ]
  }
 ],
 "metadata": {
  "interpreter": {
   "hash": "c85384e4cb51c8b72350f3a8712cc8351fdc3955e32a27f9b60c6242ab125f01"
  },
  "kernelspec": {
   "display_name": "Python 3 (ipykernel)",
   "language": "python",
   "name": "python3"
  },
  "language_info": {
   "codemirror_mode": {
    "name": "ipython",
    "version": 3
   },
   "file_extension": ".py",
   "mimetype": "text/x-python",
   "name": "python",
   "nbconvert_exporter": "python",
   "pygments_lexer": "ipython3",
   "version": "3.11.5"
  }
 },
 "nbformat": 4,
 "nbformat_minor": 4
}
